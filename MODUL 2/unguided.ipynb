{
 "cells": [
  {
   "cell_type": "markdown",
   "metadata": {},
   "source": [
    "1. Load data (Movie classification)"
   ]
  },
  {
   "cell_type": "code",
   "execution_count": 22,
   "metadata": {},
   "outputs": [
    {
     "name": "stdout",
     "output_type": "stream",
     "text": [
      "   Marketing expense  Production expense  Multiplex coverage     Budget  \\\n",
      "0            20.1264               59.62               0.462  36524.125   \n",
      "1            20.5462               69.14               0.531  35668.655   \n",
      "2            20.5458               69.14               0.531  39912.675   \n",
      "3            20.6474               59.36               0.542  38873.890   \n",
      "4            21.3810               59.36               0.542  39701.585   \n",
      "\n",
      "   Movie_length  Lead_ Actor_Rating  Lead_Actress_rating  Director_rating  \\\n",
      "0         138.7               7.825                8.095            7.910   \n",
      "1         152.4               7.505                7.650            7.440   \n",
      "2         134.6               7.485                7.570            7.495   \n",
      "3         119.3               6.895                7.035            6.920   \n",
      "4         127.7               6.920                7.070            6.815   \n",
      "\n",
      "   Producer_rating  Critic_rating  Trailer_views 3D_available  Time_taken  \\\n",
      "0            7.995           7.94         527367          YES      109.60   \n",
      "1            7.470           7.44         494055           NO      146.64   \n",
      "2            7.515           7.44         547051           NO      147.88   \n",
      "3            7.020           8.26         516279          YES      185.36   \n",
      "4            7.070           8.26         531448           NO      176.48   \n",
      "\n",
      "   Twitter_hastags     Genre  Avg_age_actors  Num_multiplex  Collection  \\\n",
      "0          223.840  Thriller              23            494       48000   \n",
      "1          243.456     Drama              42            462       43200   \n",
      "2         2022.400    Comedy              38            458       69400   \n",
      "3          225.344     Drama              45            472       66800   \n",
      "4          225.792     Drama              55            395       72400   \n",
      "\n",
      "   Start_Tech_Oscar  \n",
      "0                 1  \n",
      "1                 0  \n",
      "2                 1  \n",
      "3                 1  \n",
      "4                 1  \n"
     ]
    }
   ],
   "source": [
    "#Load data (Movie_classification)\n",
    "\n",
    "import pandas as pd\n",
    "\n",
    "# Load data\n",
    "file_path = 'Movie_classification.csv'   \n",
    "df = pd.read_csv(file_path)\n",
    "\n",
    "# Menampilkan beberapa baris pertama dari data\n",
    "print(df.head())"
   ]
  },
  {
   "cell_type": "markdown",
   "metadata": {},
   "source": [
    "2. Cek nilai duplikat"
   ]
  },
  {
   "cell_type": "code",
   "execution_count": 23,
   "metadata": {},
   "outputs": [
    {
     "name": "stdout",
     "output_type": "stream",
     "text": [
      "Jumlah nilai duplikat: 0\n"
     ]
    }
   ],
   "source": [
    "# Cek nilai duplikat\n",
    "duplicate_values = df.duplicated().sum()\n",
    "\n",
    "# Menampilkan jumlah nilai duplikat\n",
    "print(f'Jumlah nilai duplikat: {duplicate_values}')"
   ]
  },
  {
   "cell_type": "code",
   "execution_count": 13,
   "metadata": {},
   "outputs": [
    {
     "data": {
      "text/plain": [
       "np.int64(0)"
      ]
     },
     "execution_count": 13,
     "metadata": {},
     "output_type": "execute_result"
    }
   ],
   "source": [
    "df.duplicated().sum() #Melihat apakah ada data yg double"
   ]
  },
  {
   "cell_type": "markdown",
   "metadata": {},
   "source": [
    "3. Menemukan null values buat presentase"
   ]
  },
  {
   "cell_type": "code",
   "execution_count": 14,
   "metadata": {},
   "outputs": [
    {
     "data": {
      "text/plain": [
       "Marketing expense      0.0\n",
       "Production expense     0.0\n",
       "Multiplex coverage     0.0\n",
       "Budget                 0.0\n",
       "Movie_length           0.0\n",
       "Lead_ Actor_Rating     0.0\n",
       "Lead_Actress_rating    0.0\n",
       "Director_rating        0.0\n",
       "Producer_rating        0.0\n",
       "Critic_rating          0.0\n",
       "Trailer_views          0.0\n",
       "3D_available           0.0\n",
       "Time_taken             0.0\n",
       "Twitter_hastags        0.0\n",
       "Genre                  0.0\n",
       "Avg_age_actors         0.0\n",
       "Num_multiplex          0.0\n",
       "Collection             0.0\n",
       "Start_Tech_Oscar       0.0\n",
       "dtype: float64"
      ]
     },
     "execution_count": 14,
     "metadata": {},
     "output_type": "execute_result"
    }
   ],
   "source": [
    "(df.isna().sum()/len(df))*100 #Melihat presentase missing values"
   ]
  },
  {
   "cell_type": "code",
   "execution_count": 18,
   "metadata": {},
   "outputs": [
    {
     "name": "stdout",
     "output_type": "stream",
     "text": [
      "Persentase nilai null per kolom:\n",
      " Marketing expense      0.0\n",
      "Production expense     0.0\n",
      "Multiplex coverage     0.0\n",
      "Budget                 0.0\n",
      "Movie_length           0.0\n",
      "Lead_ Actor_Rating     0.0\n",
      "Lead_Actress_rating    0.0\n",
      "Director_rating        0.0\n",
      "Producer_rating        0.0\n",
      "Critic_rating          0.0\n",
      "Trailer_views          0.0\n",
      "3D_available           0.0\n",
      "Time_taken             0.0\n",
      "Twitter_hastags        0.0\n",
      "Genre                  0.0\n",
      "Avg_age_actors         0.0\n",
      "Num_multiplex          0.0\n",
      "Collection             0.0\n",
      "Start_Tech_Oscar       0.0\n",
      "dtype: float64\n"
     ]
    }
   ],
   "source": [
    "# Menghitung jumlah nilai kosong per kolom\n",
    "missing_values = df.isnull().sum()\n",
    "\n",
    "# Menghitung persentase nilai kosong per kolom\n",
    "missing_percentage = (missing_values / len(df)) * 100\n",
    "\n",
    "# Menampilkan persentase nilai null\n",
    "print(\"Persentase nilai null per kolom:\\n\", missing_percentage)"
   ]
  },
  {
   "cell_type": "code",
   "execution_count": 24,
   "metadata": {},
   "outputs": [
    {
     "name": "stdout",
     "output_type": "stream",
     "text": [
      "Persentase nilai null per kolom:\n",
      "Marketing expense      0.000000\n",
      "Production expense     0.000000\n",
      "Multiplex coverage     0.000000\n",
      "Budget                 0.000000\n",
      "Movie_length           0.000000\n",
      "Lead_ Actor_Rating     0.000000\n",
      "Lead_Actress_rating    0.000000\n",
      "Director_rating        0.000000\n",
      "Producer_rating        0.000000\n",
      "Critic_rating          0.000000\n",
      "Trailer_views          0.000000\n",
      "3D_available           0.000000\n",
      "Time_taken             2.371542\n",
      "Twitter_hastags        0.000000\n",
      "Genre                  0.000000\n",
      "Avg_age_actors         0.000000\n",
      "Num_multiplex          0.000000\n",
      "Collection             0.000000\n",
      "Start_Tech_Oscar       0.000000\n",
      "dtype: float64\n"
     ]
    }
   ],
   "source": [
    "# Menemukan nilai null dan menghitung persentase\n",
    "null_values_percentage = (df.isnull().sum() / len(df)) * 100\n",
    "\n",
    "# Menampilkan persentase nilai null per kolom\n",
    "print('Persentase nilai null per kolom:')\n",
    "print(null_values_percentage)"
   ]
  },
  {
   "cell_type": "markdown",
   "metadata": {},
   "source": [
    "4. Drop missing value berdasarkan baris, kolom, imputasi dengan mean, modus, median"
   ]
  },
  {
   "cell_type": "code",
   "execution_count": 25,
   "metadata": {},
   "outputs": [
    {
     "name": "stdout",
     "output_type": "stream",
     "text": [
      "Jumlah data setelah menghapus baris yang memiliki nilai null: 494\n",
      "Jumlah kolom setelah menghapus kolom yang memiliki nilai null: 18\n",
      "Imputasi menggunakan mean berhasil dilakukan.\n",
      "Imputasi menggunakan modus berhasil dilakukan.\n",
      "Imputasi menggunakan median berhasil dilakukan.\n",
      "Semua hasil telah disimpan ke file CSV.\n"
     ]
    }
   ],
   "source": [
    "# Drop missing values berdasarkan baris\n",
    "df_drop_rows = df.dropna()\n",
    "print(f'Jumlah data setelah menghapus baris yang memiliki nilai null: {len(df_drop_rows)}')\n",
    "\n",
    "# Drop missing values berdasarkan kolom\n",
    "df_drop_cols = df.dropna(axis=1)\n",
    "print(f'Jumlah kolom setelah menghapus kolom yang memiliki nilai null: {df_drop_cols.shape[1]}')\n",
    "\n",
    "# Imputasi dengan mean (hanya untuk kolom numerik)\n",
    "df_impute_mean = df.fillna(df.mean(numeric_only=True))\n",
    "print('Imputasi menggunakan mean berhasil dilakukan.')\n",
    "\n",
    "# Imputasi dengan modus\n",
    "df_impute_mode = df.fillna(df.mode().iloc[0])\n",
    "print('Imputasi menggunakan modus berhasil dilakukan.')\n",
    "\n",
    "# Imputasi dengan median (hanya untuk kolom numerik)\n",
    "df_impute_median = df.fillna(df.median(numeric_only=True))\n",
    "print('Imputasi menggunakan median berhasil dilakukan.')\n",
    "\n",
    "# Menyimpan hasil ke file CSV\n",
    "df_drop_rows.to_csv('Movie_classification_drop_rows.csv', index=False)\n",
    "df_drop_cols.to_csv('Movie_classification_drop_cols.csv', index=False)\n",
    "df_impute_mean.to_csv('Movie_classification_impute_mean.csv', index=False)\n",
    "df_impute_mode.to_csv('Movie_classification_impute_mode.csv', index=False)\n",
    "df_impute_median.to_csv('Movie_classification_impute_median.csv', index=False)\n",
    "\n",
    "print('Semua hasil telah disimpan ke file CSV.')"
   ]
  },
  {
   "cell_type": "markdown",
   "metadata": {},
   "source": [
    "5. Export data ke csv dan excel\n",
    "menggunakan vscode"
   ]
  },
  {
   "cell_type": "code",
   "execution_count": 27,
   "metadata": {},
   "outputs": [
    {
     "name": "stdout",
     "output_type": "stream",
     "text": [
      "Data telah diekspor ke format CSV dan Excel.\n"
     ]
    }
   ],
   "source": [
    "# Ekspor DataFrame ke file CSV\n",
    "df.to_csv('Movie_classification_exported.csv', index=False)\n",
    "\n",
    "# Ekspor DataFrame ke file Excel\n",
    "df.to_excel('Movie_classification_exported.xlsx', index=False)\n",
    "\n",
    "print('Data telah diekspor ke format CSV dan Excel.')"
   ]
  }
 ],
 "metadata": {
  "kernelspec": {
   "display_name": "Python 3",
   "language": "python",
   "name": "python3"
  },
  "language_info": {
   "codemirror_mode": {
    "name": "ipython",
    "version": 3
   },
   "file_extension": ".py",
   "mimetype": "text/x-python",
   "name": "python",
   "nbconvert_exporter": "python",
   "pygments_lexer": "ipython3",
   "version": "3.12.6"
  }
 },
 "nbformat": 4,
 "nbformat_minor": 2
}
